{
 "cells": [
  {
   "cell_type": "markdown",
   "metadata": {},
   "source": [
    "**Predicting electric motor temperature / insurance charges with a regression model using Gradient Descent**"
   ]
  },
  {
   "cell_type": "code",
   "execution_count": 1,
   "metadata": {},
   "outputs": [],
   "source": [
    "import pandas as pd\n",
    "import numpy as np\n",
    "import matplotlib.pyplot as plt\n",
    "from sklearn.metrics import mean_squared_error, r2_score, mean_absolute_error\n",
    "import seaborn as sb\n",
    "import os\n",
    "dataset = 'measures_v2' #'insurance'\n",
    "data = pd.read_csv(os.getcwd()+'/datasets/'+dataset+'.csv')"
   ]
  },
  {
   "cell_type": "code",
   "execution_count": 2,
   "metadata": {},
   "outputs": [
    {
     "data": {
      "text/html": [
       "<div>\n",
       "<style scoped>\n",
       "    .dataframe tbody tr th:only-of-type {\n",
       "        vertical-align: middle;\n",
       "    }\n",
       "\n",
       "    .dataframe tbody tr th {\n",
       "        vertical-align: top;\n",
       "    }\n",
       "\n",
       "    .dataframe thead th {\n",
       "        text-align: right;\n",
       "    }\n",
       "</style>\n",
       "<table border=\"1\" class=\"dataframe\">\n",
       "  <thead>\n",
       "    <tr style=\"text-align: right;\">\n",
       "      <th></th>\n",
       "      <th>u_q</th>\n",
       "      <th>coolant</th>\n",
       "      <th>stator_winding</th>\n",
       "      <th>u_d</th>\n",
       "      <th>stator_tooth</th>\n",
       "      <th>motor_speed</th>\n",
       "      <th>i_d</th>\n",
       "      <th>i_q</th>\n",
       "      <th>pm</th>\n",
       "      <th>stator_yoke</th>\n",
       "      <th>ambient</th>\n",
       "      <th>torque</th>\n",
       "      <th>profile_id</th>\n",
       "    </tr>\n",
       "  </thead>\n",
       "  <tbody>\n",
       "    <tr>\n",
       "      <th>0</th>\n",
       "      <td>-0.450682</td>\n",
       "      <td>18.805172</td>\n",
       "      <td>19.086670</td>\n",
       "      <td>-0.350055</td>\n",
       "      <td>18.293219</td>\n",
       "      <td>0.002866</td>\n",
       "      <td>0.004419</td>\n",
       "      <td>0.000328</td>\n",
       "      <td>24.554214</td>\n",
       "      <td>18.316547</td>\n",
       "      <td>19.850691</td>\n",
       "      <td>1.871008e-01</td>\n",
       "      <td>17</td>\n",
       "    </tr>\n",
       "    <tr>\n",
       "      <th>1</th>\n",
       "      <td>-0.325737</td>\n",
       "      <td>18.818571</td>\n",
       "      <td>19.092390</td>\n",
       "      <td>-0.305803</td>\n",
       "      <td>18.294807</td>\n",
       "      <td>0.000257</td>\n",
       "      <td>0.000606</td>\n",
       "      <td>-0.000785</td>\n",
       "      <td>24.538078</td>\n",
       "      <td>18.314955</td>\n",
       "      <td>19.850672</td>\n",
       "      <td>2.454175e-01</td>\n",
       "      <td>17</td>\n",
       "    </tr>\n",
       "    <tr>\n",
       "      <th>2</th>\n",
       "      <td>-0.440864</td>\n",
       "      <td>18.828770</td>\n",
       "      <td>19.089380</td>\n",
       "      <td>-0.372503</td>\n",
       "      <td>18.294094</td>\n",
       "      <td>0.002355</td>\n",
       "      <td>0.001290</td>\n",
       "      <td>0.000386</td>\n",
       "      <td>24.544693</td>\n",
       "      <td>18.326307</td>\n",
       "      <td>19.850657</td>\n",
       "      <td>1.766153e-01</td>\n",
       "      <td>17</td>\n",
       "    </tr>\n",
       "    <tr>\n",
       "      <th>3</th>\n",
       "      <td>-0.327026</td>\n",
       "      <td>18.835567</td>\n",
       "      <td>19.083031</td>\n",
       "      <td>-0.316199</td>\n",
       "      <td>18.292542</td>\n",
       "      <td>0.006105</td>\n",
       "      <td>0.000026</td>\n",
       "      <td>0.002046</td>\n",
       "      <td>24.554018</td>\n",
       "      <td>18.330833</td>\n",
       "      <td>19.850647</td>\n",
       "      <td>2.383027e-01</td>\n",
       "      <td>17</td>\n",
       "    </tr>\n",
       "    <tr>\n",
       "      <th>4</th>\n",
       "      <td>-0.471150</td>\n",
       "      <td>18.857033</td>\n",
       "      <td>19.082525</td>\n",
       "      <td>-0.332272</td>\n",
       "      <td>18.291428</td>\n",
       "      <td>0.003133</td>\n",
       "      <td>-0.064317</td>\n",
       "      <td>0.037184</td>\n",
       "      <td>24.565397</td>\n",
       "      <td>18.326662</td>\n",
       "      <td>19.850639</td>\n",
       "      <td>2.081967e-01</td>\n",
       "      <td>17</td>\n",
       "    </tr>\n",
       "    <tr>\n",
       "      <th>...</th>\n",
       "      <td>...</td>\n",
       "      <td>...</td>\n",
       "      <td>...</td>\n",
       "      <td>...</td>\n",
       "      <td>...</td>\n",
       "      <td>...</td>\n",
       "      <td>...</td>\n",
       "      <td>...</td>\n",
       "      <td>...</td>\n",
       "      <td>...</td>\n",
       "      <td>...</td>\n",
       "      <td>...</td>\n",
       "      <td>...</td>\n",
       "    </tr>\n",
       "    <tr>\n",
       "      <th>1330811</th>\n",
       "      <td>-2.152128</td>\n",
       "      <td>30.721298</td>\n",
       "      <td>45.274497</td>\n",
       "      <td>0.791801</td>\n",
       "      <td>41.934347</td>\n",
       "      <td>0.000380</td>\n",
       "      <td>-2.000169</td>\n",
       "      <td>1.097528</td>\n",
       "      <td>62.147780</td>\n",
       "      <td>38.653720</td>\n",
       "      <td>23.989078</td>\n",
       "      <td>-8.116730e-60</td>\n",
       "      <td>71</td>\n",
       "    </tr>\n",
       "    <tr>\n",
       "      <th>1330812</th>\n",
       "      <td>-2.258684</td>\n",
       "      <td>30.721306</td>\n",
       "      <td>45.239017</td>\n",
       "      <td>0.778900</td>\n",
       "      <td>41.868923</td>\n",
       "      <td>0.002985</td>\n",
       "      <td>-2.000499</td>\n",
       "      <td>1.097569</td>\n",
       "      <td>62.142646</td>\n",
       "      <td>38.656328</td>\n",
       "      <td>23.970700</td>\n",
       "      <td>-5.815891e-60</td>\n",
       "      <td>71</td>\n",
       "    </tr>\n",
       "    <tr>\n",
       "      <th>1330813</th>\n",
       "      <td>-2.130312</td>\n",
       "      <td>30.721312</td>\n",
       "      <td>45.211576</td>\n",
       "      <td>0.804914</td>\n",
       "      <td>41.804819</td>\n",
       "      <td>0.002301</td>\n",
       "      <td>-1.999268</td>\n",
       "      <td>1.098765</td>\n",
       "      <td>62.138387</td>\n",
       "      <td>38.650923</td>\n",
       "      <td>23.977234</td>\n",
       "      <td>-4.167268e-60</td>\n",
       "      <td>71</td>\n",
       "    </tr>\n",
       "    <tr>\n",
       "      <th>1330814</th>\n",
       "      <td>-2.268498</td>\n",
       "      <td>30.721316</td>\n",
       "      <td>45.193508</td>\n",
       "      <td>0.763091</td>\n",
       "      <td>41.762220</td>\n",
       "      <td>0.005662</td>\n",
       "      <td>-2.000999</td>\n",
       "      <td>1.095696</td>\n",
       "      <td>62.133422</td>\n",
       "      <td>38.655686</td>\n",
       "      <td>24.001421</td>\n",
       "      <td>-2.985978e-60</td>\n",
       "      <td>71</td>\n",
       "    </tr>\n",
       "    <tr>\n",
       "      <th>1330815</th>\n",
       "      <td>-2.100158</td>\n",
       "      <td>30.721319</td>\n",
       "      <td>45.132307</td>\n",
       "      <td>0.807309</td>\n",
       "      <td>41.734763</td>\n",
       "      <td>0.004395</td>\n",
       "      <td>-2.000792</td>\n",
       "      <td>1.096487</td>\n",
       "      <td>62.131429</td>\n",
       "      <td>38.660370</td>\n",
       "      <td>24.027522</td>\n",
       "      <td>-2.139547e-60</td>\n",
       "      <td>71</td>\n",
       "    </tr>\n",
       "  </tbody>\n",
       "</table>\n",
       "<p>1330816 rows × 13 columns</p>\n",
       "</div>"
      ],
      "text/plain": [
       "              u_q    coolant  stator_winding       u_d  stator_tooth  \\\n",
       "0       -0.450682  18.805172       19.086670 -0.350055     18.293219   \n",
       "1       -0.325737  18.818571       19.092390 -0.305803     18.294807   \n",
       "2       -0.440864  18.828770       19.089380 -0.372503     18.294094   \n",
       "3       -0.327026  18.835567       19.083031 -0.316199     18.292542   \n",
       "4       -0.471150  18.857033       19.082525 -0.332272     18.291428   \n",
       "...           ...        ...             ...       ...           ...   \n",
       "1330811 -2.152128  30.721298       45.274497  0.791801     41.934347   \n",
       "1330812 -2.258684  30.721306       45.239017  0.778900     41.868923   \n",
       "1330813 -2.130312  30.721312       45.211576  0.804914     41.804819   \n",
       "1330814 -2.268498  30.721316       45.193508  0.763091     41.762220   \n",
       "1330815 -2.100158  30.721319       45.132307  0.807309     41.734763   \n",
       "\n",
       "         motor_speed       i_d       i_q         pm  stator_yoke    ambient  \\\n",
       "0           0.002866  0.004419  0.000328  24.554214    18.316547  19.850691   \n",
       "1           0.000257  0.000606 -0.000785  24.538078    18.314955  19.850672   \n",
       "2           0.002355  0.001290  0.000386  24.544693    18.326307  19.850657   \n",
       "3           0.006105  0.000026  0.002046  24.554018    18.330833  19.850647   \n",
       "4           0.003133 -0.064317  0.037184  24.565397    18.326662  19.850639   \n",
       "...              ...       ...       ...        ...          ...        ...   \n",
       "1330811     0.000380 -2.000169  1.097528  62.147780    38.653720  23.989078   \n",
       "1330812     0.002985 -2.000499  1.097569  62.142646    38.656328  23.970700   \n",
       "1330813     0.002301 -1.999268  1.098765  62.138387    38.650923  23.977234   \n",
       "1330814     0.005662 -2.000999  1.095696  62.133422    38.655686  24.001421   \n",
       "1330815     0.004395 -2.000792  1.096487  62.131429    38.660370  24.027522   \n",
       "\n",
       "               torque  profile_id  \n",
       "0        1.871008e-01          17  \n",
       "1        2.454175e-01          17  \n",
       "2        1.766153e-01          17  \n",
       "3        2.383027e-01          17  \n",
       "4        2.081967e-01          17  \n",
       "...               ...         ...  \n",
       "1330811 -8.116730e-60          71  \n",
       "1330812 -5.815891e-60          71  \n",
       "1330813 -4.167268e-60          71  \n",
       "1330814 -2.985978e-60          71  \n",
       "1330815 -2.139547e-60          71  \n",
       "\n",
       "[1330816 rows x 13 columns]"
      ]
     },
     "execution_count": 2,
     "metadata": {},
     "output_type": "execute_result"
    }
   ],
   "source": [
    "data"
   ]
  },
  {
   "cell_type": "code",
   "execution_count": 3,
   "metadata": {},
   "outputs": [],
   "source": [
    "# for insurance.csv\n",
    "if dataset == 'insurance':\n",
    "# one hot encoding and concatenating\n",
    "    s = pd.Series(data['sex'])\n",
    "    one_hot_encoded = pd.get_dummies(s)\n",
    "\n",
    "    ohe_df = pd.DataFrame(one_hot_encoded)\n",
    "\n",
    "    preprocessed_data = pd.concat([data['age'], ohe_df], axis=1)\n",
    "\n",
    "    preprocessed_data = pd.concat([preprocessed_data, data['bmi']], axis=1)\n",
    "\n",
    "    preprocessed_data = pd.concat([preprocessed_data, data['children']], axis=1)\n",
    "\n",
    "    s = pd.Series(data['smoker'])\n",
    "    one_hot_encoded = pd.get_dummies(s)\n",
    "\n",
    "    ohe_df = pd.DataFrame(one_hot_encoded)\n",
    "\n",
    "    preprocessed_data = pd.concat([preprocessed_data, ohe_df], axis=1)\n",
    "\n",
    "    s = pd.Series(data['region'])\n",
    "    one_hot_encoded = pd.get_dummies(s)\n",
    "\n",
    "    ohe_df = pd.DataFrame(one_hot_encoded)\n",
    "\n",
    "    preprocessed_data = pd.concat([preprocessed_data, ohe_df], axis=1)\n",
    "\n",
    "    preprocessed_data = pd.concat([preprocessed_data, data['charges']], axis=1)\n",
    "    data = preprocessed_data\n"
   ]
  },
  {
   "cell_type": "code",
   "execution_count": 4,
   "metadata": {},
   "outputs": [
    {
     "data": {
      "image/png": "[encoded data removed]",
      "text/plain": [
       "<Figure size 864x720 with 2 Axes>"
      ]
     },
     "metadata": {
      "needs_background": "light"
     },
     "output_type": "display_data"
    }
   ],
   "source": [
    "plt.figure(figsize=(12,10))\n",
    "cor = data.corr()\n",
    "sb.heatmap(cor, annot=True, cmap=plt.cm.Reds)\n",
    "plt.show()"
   ]
  },
  {
   "cell_type": "code",
   "execution_count": 5,
   "metadata": {},
   "outputs": [
    {
     "data": {
      "text/plain": [
       "coolant           0.674974\n",
       "stator_winding    0.970135\n",
       "stator_tooth      1.000000\n",
       "motor_speed       0.398431\n",
       "i_d               0.487062\n",
       "pm                0.832084\n",
       "stator_yoke       0.953115\n",
       "ambient           0.443470\n",
       "profile_id        0.450821\n",
       "Name: stator_tooth, dtype: float64"
      ]
     },
     "execution_count": 5,
     "metadata": {},
     "output_type": "execute_result"
    }
   ],
   "source": [
    "target = \"stator_tooth\" #stator_yoke, pm, stator_tooth, stator_winding, coolant\n",
    "#Correlation with output variable\n",
    "cor_target = abs(cor[target]) # cor[target]\n",
    "#Selecting highly correlated features\n",
    "relevant_features = cor_target[cor_target>0.30]\n",
    "relevant_features"
   ]
  },
  {
   "cell_type": "code",
   "execution_count": 6,
   "metadata": {},
   "outputs": [
    {
     "data": {
      "text/plain": [
       "array(['coolant', 'stator_winding', 'stator_tooth', 'motor_speed', 'i_d',\n",
       "       'pm', 'stator_yoke', 'ambient', 'profile_id'], dtype=object)"
      ]
     },
     "execution_count": 6,
     "metadata": {},
     "output_type": "execute_result"
    }
   ],
   "source": [
    "np.array(relevant_features.keys())"
   ]
  },
  {
   "cell_type": "code",
   "execution_count": 7,
   "metadata": {},
   "outputs": [
    {
     "data": {
      "text/html": [
       "<div>\n",
       "<style scoped>\n",
       "    .dataframe tbody tr th:only-of-type {\n",
       "        vertical-align: middle;\n",
       "    }\n",
       "\n",
       "    .dataframe tbody tr th {\n",
       "        vertical-align: top;\n",
       "    }\n",
       "\n",
       "    .dataframe thead th {\n",
       "        text-align: right;\n",
       "    }\n",
       "</style>\n",
       "<table border=\"1\" class=\"dataframe\">\n",
       "  <thead>\n",
       "    <tr style=\"text-align: right;\">\n",
       "      <th></th>\n",
       "      <th>coolant</th>\n",
       "      <th>stator_winding</th>\n",
       "      <th>stator_tooth</th>\n",
       "      <th>motor_speed</th>\n",
       "      <th>i_d</th>\n",
       "      <th>pm</th>\n",
       "      <th>stator_yoke</th>\n",
       "      <th>ambient</th>\n",
       "      <th>profile_id</th>\n",
       "    </tr>\n",
       "  </thead>\n",
       "  <tbody>\n",
       "    <tr>\n",
       "      <th>0</th>\n",
       "      <td>18.805172</td>\n",
       "      <td>19.086670</td>\n",
       "      <td>18.293219</td>\n",
       "      <td>0.002866</td>\n",
       "      <td>0.004419</td>\n",
       "      <td>24.554214</td>\n",
       "      <td>18.316547</td>\n",
       "      <td>19.850691</td>\n",
       "      <td>17</td>\n",
       "    </tr>\n",
       "    <tr>\n",
       "      <th>1</th>\n",
       "      <td>18.818571</td>\n",
       "      <td>19.092390</td>\n",
       "      <td>18.294807</td>\n",
       "      <td>0.000257</td>\n",
       "      <td>0.000606</td>\n",
       "      <td>24.538078</td>\n",
       "      <td>18.314955</td>\n",
       "      <td>19.850672</td>\n",
       "      <td>17</td>\n",
       "    </tr>\n",
       "    <tr>\n",
       "      <th>2</th>\n",
       "      <td>18.828770</td>\n",
       "      <td>19.089380</td>\n",
       "      <td>18.294094</td>\n",
       "      <td>0.002355</td>\n",
       "      <td>0.001290</td>\n",
       "      <td>24.544693</td>\n",
       "      <td>18.326307</td>\n",
       "      <td>19.850657</td>\n",
       "      <td>17</td>\n",
       "    </tr>\n",
       "    <tr>\n",
       "      <th>3</th>\n",
       "      <td>18.835567</td>\n",
       "      <td>19.083031</td>\n",
       "      <td>18.292542</td>\n",
       "      <td>0.006105</td>\n",
       "      <td>0.000026</td>\n",
       "      <td>24.554018</td>\n",
       "      <td>18.330833</td>\n",
       "      <td>19.850647</td>\n",
       "      <td>17</td>\n",
       "    </tr>\n",
       "    <tr>\n",
       "      <th>4</th>\n",
       "      <td>18.857033</td>\n",
       "      <td>19.082525</td>\n",
       "      <td>18.291428</td>\n",
       "      <td>0.003133</td>\n",
       "      <td>-0.064317</td>\n",
       "      <td>24.565397</td>\n",
       "      <td>18.326662</td>\n",
       "      <td>19.850639</td>\n",
       "      <td>17</td>\n",
       "    </tr>\n",
       "    <tr>\n",
       "      <th>...</th>\n",
       "      <td>...</td>\n",
       "      <td>...</td>\n",
       "      <td>...</td>\n",
       "      <td>...</td>\n",
       "      <td>...</td>\n",
       "      <td>...</td>\n",
       "      <td>...</td>\n",
       "      <td>...</td>\n",
       "      <td>...</td>\n",
       "    </tr>\n",
       "    <tr>\n",
       "      <th>1330811</th>\n",
       "      <td>30.721298</td>\n",
       "      <td>45.274497</td>\n",
       "      <td>41.934347</td>\n",
       "      <td>0.000380</td>\n",
       "      <td>-2.000169</td>\n",
       "      <td>62.147780</td>\n",
       "      <td>38.653720</td>\n",
       "      <td>23.989078</td>\n",
       "      <td>71</td>\n",
       "    </tr>\n",
       "    <tr>\n",
       "      <th>1330812</th>\n",
       "      <td>30.721306</td>\n",
       "      <td>45.239017</td>\n",
       "      <td>41.868923</td>\n",
       "      <td>0.002985</td>\n",
       "      <td>-2.000499</td>\n",
       "      <td>62.142646</td>\n",
       "      <td>38.656328</td>\n",
       "      <td>23.970700</td>\n",
       "      <td>71</td>\n",
       "    </tr>\n",
       "    <tr>\n",
       "      <th>1330813</th>\n",
       "      <td>30.721312</td>\n",
       "      <td>45.211576</td>\n",
       "      <td>41.804819</td>\n",
       "      <td>0.002301</td>\n",
       "      <td>-1.999268</td>\n",
       "      <td>62.138387</td>\n",
       "      <td>38.650923</td>\n",
       "      <td>23.977234</td>\n",
       "      <td>71</td>\n",
       "    </tr>\n",
       "    <tr>\n",
       "      <th>1330814</th>\n",
       "      <td>30.721316</td>\n",
       "      <td>45.193508</td>\n",
       "      <td>41.762220</td>\n",
       "      <td>0.005662</td>\n",
       "      <td>-2.000999</td>\n",
       "      <td>62.133422</td>\n",
       "      <td>38.655686</td>\n",
       "      <td>24.001421</td>\n",
       "      <td>71</td>\n",
       "    </tr>\n",
       "    <tr>\n",
       "      <th>1330815</th>\n",
       "      <td>30.721319</td>\n",
       "      <td>45.132307</td>\n",
       "      <td>41.734763</td>\n",
       "      <td>0.004395</td>\n",
       "      <td>-2.000792</td>\n",
       "      <td>62.131429</td>\n",
       "      <td>38.660370</td>\n",
       "      <td>24.027522</td>\n",
       "      <td>71</td>\n",
       "    </tr>\n",
       "  </tbody>\n",
       "</table>\n",
       "<p>1330816 rows × 9 columns</p>\n",
       "</div>"
      ],
      "text/plain": [
       "           coolant  stator_winding  stator_tooth  motor_speed       i_d  \\\n",
       "0        18.805172       19.086670     18.293219     0.002866  0.004419   \n",
       "1        18.818571       19.092390     18.294807     0.000257  0.000606   \n",
       "2        18.828770       19.089380     18.294094     0.002355  0.001290   \n",
       "3        18.835567       19.083031     18.292542     0.006105  0.000026   \n",
       "4        18.857033       19.082525     18.291428     0.003133 -0.064317   \n",
       "...            ...             ...           ...          ...       ...   \n",
       "1330811  30.721298       45.274497     41.934347     0.000380 -2.000169   \n",
       "1330812  30.721306       45.239017     41.868923     0.002985 -2.000499   \n",
       "1330813  30.721312       45.211576     41.804819     0.002301 -1.999268   \n",
       "1330814  30.721316       45.193508     41.762220     0.005662 -2.000999   \n",
       "1330815  30.721319       45.132307     41.734763     0.004395 -2.000792   \n",
       "\n",
       "                pm  stator_yoke    ambient  profile_id  \n",
       "0        24.554214    18.316547  19.850691          17  \n",
       "1        24.538078    18.314955  19.850672          17  \n",
       "2        24.544693    18.326307  19.850657          17  \n",
       "3        24.554018    18.330833  19.850647          17  \n",
       "4        24.565397    18.326662  19.850639          17  \n",
       "...            ...          ...        ...         ...  \n",
       "1330811  62.147780    38.653720  23.989078          71  \n",
       "1330812  62.142646    38.656328  23.970700          71  \n",
       "1330813  62.138387    38.650923  23.977234          71  \n",
       "1330814  62.133422    38.655686  24.001421          71  \n",
       "1330815  62.131429    38.660370  24.027522          71  \n",
       "\n",
       "[1330816 rows x 9 columns]"
      ]
     },
     "execution_count": 7,
     "metadata": {},
     "output_type": "execute_result"
    }
   ],
   "source": [
    "features = np.array(relevant_features.keys())\n",
    "data = data[features]\n",
    "data"
   ]
  },
  {
   "cell_type": "code",
   "execution_count": 8,
   "metadata": {},
   "outputs": [],
   "source": [
    "# split data into input and output variables\n",
    "y = data[target]\n",
    "X = data.drop(target, axis=1)"
   ]
  },
  {
   "cell_type": "code",
   "execution_count": 9,
   "metadata": {},
   "outputs": [],
   "source": [
    "target_mu = np.mean(data[target])\n",
    "target_std = np.std(data[target])"
   ]
  },
  {
   "cell_type": "code",
   "execution_count": 10,
   "metadata": {},
   "outputs": [],
   "source": [
    "def featureNormalization(data):\n",
    "    mu  = np.mean(data)\n",
    "    std = np.std(data)\n",
    "    return (data - mu) / (std)"
   ]
  },
  {
   "cell_type": "code",
   "execution_count": 11,
   "metadata": {},
   "outputs": [],
   "source": [
    "X_norm = featureNormalization(X)\n",
    "y_norm = featureNormalization(y)"
   ]
  },
  {
   "cell_type": "code",
   "execution_count": 12,
   "metadata": {},
   "outputs": [],
   "source": [
    "#split into train and test data\n",
    "X_train_data = X_norm[0:int(len(X_norm)*0.8)]\n",
    "X_test_data  = X_norm[int(len(X_norm)*0.8)::]"
   ]
  },
  {
   "cell_type": "code",
   "execution_count": 13,
   "metadata": {},
   "outputs": [],
   "source": [
    "#split into train and test data\n",
    "Y_train_data = np.array(y_norm[0:int(len(y_norm)*0.8)])\n",
    "Y_test_data  = np.array(y_norm[int(len(y_norm)*0.8)::])"
   ]
  },
  {
   "cell_type": "code",
   "execution_count": 14,
   "metadata": {},
   "outputs": [],
   "source": [
    "m = len(X_train_data)"
   ]
  },
  {
   "cell_type": "code",
   "execution_count": 15,
   "metadata": {},
   "outputs": [],
   "source": [
    "#  Add intercept term to data\n",
    "X_train_data = np.append(np.ones([m, 1], dtype=np.int32), X_train_data, axis=1)"
   ]
  },
  {
   "cell_type": "code",
   "execution_count": 16,
   "metadata": {},
   "outputs": [],
   "source": [
    "def computeCostMulti(X, y, theta):\n",
    "    m = len(y)\n",
    "    theta = np.array(theta)\n",
    "    J = (1/(2*m))*((np.square(( X @ theta - y))).sum())\n",
    "    return J"
   ]
  },
  {
   "cell_type": "code",
   "execution_count": 17,
   "metadata": {},
   "outputs": [],
   "source": [
    "def gradientDescentMulti(X, y, theta, alpha, iterations):\n",
    "    J_history = np.zeros(iterations)\n",
    "    m = len(y)\n",
    "    for i in range(iterations):\n",
    "        theta = np.subtract(theta, alpha * (1/m) * (( (X @ theta) - y ).transpose() @ X).transpose())\n",
    "        J_history[i] = computeCostMulti(X, y, theta);\n",
    "    return theta, J_history"
   ]
  },
  {
   "cell_type": "code",
   "execution_count": 18,
   "metadata": {},
   "outputs": [],
   "source": [
    "theta = np.zeros((len(X_train_data.transpose()), 1));\n",
    "alpha     =  0.01\n",
    "num_iters =  250; "
   ]
  },
  {
   "cell_type": "code",
   "execution_count": 19,
   "metadata": {},
   "outputs": [],
   "source": [
    "Y_train_data = np.expand_dims(Y_train_data, axis=1)"
   ]
  },
  {
   "cell_type": "code",
   "execution_count": 20,
   "metadata": {},
   "outputs": [],
   "source": [
    "[theta, J_history] = gradientDescentMulti(X_train_data, Y_train_data, theta, alpha, num_iters);"
   ]
  },
  {
   "cell_type": "code",
   "execution_count": 21,
   "metadata": {},
   "outputs": [
    {
     "data": {
      "image/png": "[encoded data removed]",
      "text/plain": [
       "<Figure size 432x288 with 1 Axes>"
      ]
     },
     "metadata": {
      "needs_background": "light"
     },
     "output_type": "display_data"
    }
   ],
   "source": [
    "x = np.arange(len(J_history))\n",
    "plt.plot(x, J_history)\n",
    "plt.xlabel('Iterations')\n",
    "plt.ylabel('Cost')\n",
    "plt.show()"
   ]
  },
  {
   "cell_type": "code",
   "execution_count": 22,
   "metadata": {},
   "outputs": [],
   "source": [
    "X_test_data = np.append(np.ones([len(X_test_data), 1], dtype=np.int32), X_test_data, axis=1)"
   ]
  },
  {
   "cell_type": "code",
   "execution_count": 23,
   "metadata": {},
   "outputs": [],
   "source": [
    "y_test_out = X_test_data @ theta "
   ]
  },
  {
   "cell_type": "code",
   "execution_count": 24,
   "metadata": {},
   "outputs": [],
   "source": [
    "y_test_out = np.array(y_test_out)\n",
    "Y_test_data = np.array(Y_test_data)"
   ]
  },
  {
   "cell_type": "code",
   "execution_count": 25,
   "metadata": {},
   "outputs": [
    {
     "data": {
      "text/plain": [
       "0.9718618938450825"
      ]
     },
     "execution_count": 25,
     "metadata": {},
     "output_type": "execute_result"
    }
   ],
   "source": [
    "r2_score(Y_test_data, y_test_out.ravel())"
   ]
  },
  {
   "cell_type": "code",
   "execution_count": 26,
   "metadata": {},
   "outputs": [
    {
     "data": {
      "text/plain": [
       "0.019530927085455296"
      ]
     },
     "execution_count": 26,
     "metadata": {},
     "output_type": "execute_result"
    }
   ],
   "source": [
    "mean_squared_error(Y_test_data, y_test_out.ravel())"
   ]
  },
  {
   "cell_type": "code",
   "execution_count": 27,
   "metadata": {},
   "outputs": [],
   "source": [
    "observation_pair_list = []\n",
    "for i in range(len(Y_test_data)):\n",
    "    observation_pair_list.append([Y_test_data[i], y_test_out.ravel()[i]])"
   ]
  },
  {
   "cell_type": "code",
   "execution_count": 28,
   "metadata": {},
   "outputs": [],
   "source": [
    "observation_pair_list.sort()"
   ]
  },
  {
   "cell_type": "code",
   "execution_count": 61,
   "metadata": {},
   "outputs": [],
   "source": [
    "y_true = np.array(list(zip(*observation_pair_list))[0])*target_std+target_mu"
   ]
  },
  {
   "cell_type": "code",
   "execution_count": 62,
   "metadata": {},
   "outputs": [],
   "source": [
    "y_pred = np.array(list(zip(*observation_pair_list))[1])*target_std+target_mu"
   ]
  },
  {
   "cell_type": "code",
   "execution_count": 63,
   "metadata": {},
   "outputs": [],
   "source": [
    "split = 1\n",
    "limit = int(len(y_true)*split)"
   ]
  },
  {
   "cell_type": "code",
   "execution_count": 64,
   "metadata": {},
   "outputs": [
    {
     "data": {
      "image/png": "[encoded data removed]",
      "text/plain": [
       "<Figure size 432x288 with 1 Axes>"
      ]
     },
     "metadata": {
      "needs_background": "light"
     },
     "output_type": "display_data"
    }
   ],
   "source": [
    "Y_plot = y_true[0:limit] \n",
    "y_out  = y_pred[0:limit]\n",
    "fig = plt.figure()\n",
    "ax1 = fig.add_subplot(111)\n",
    "x = np.arange(len(Y_plot))\n",
    "ax1.scatter(x, y_out, s=10, c='r', marker=\"o\", label='y_pred')\n",
    "ax1.scatter(x, Y_plot, s=10, c='b', marker=\"s\", label='y_true')\n",
    "plt.legend(loc='upper left');\n",
    "plt.xlabel('Observations')\n",
    "plt.ylabel('y')\n",
    "plt.show()"
   ]
  },
  {
   "cell_type": "code",
   "execution_count": 74,
   "metadata": {},
   "outputs": [
    {
     "data": {
      "text/plain": [
       "245490"
      ]
     },
     "execution_count": 74,
     "metadata": {},
     "output_type": "execute_result"
    }
   ],
   "source": [
    "# for density of points\n",
    "points = 0\n",
    "tol = 0.1\n",
    "for i in range(len(y_out)):\n",
    "    if Y_plot[i]*(1-tol) <= y_out[i] and y_out[i] <= Y_plot[i]*(1+tol):\n",
    "        points+=1\n",
    "points"
   ]
  },
  {
   "cell_type": "code",
   "execution_count": 33,
   "metadata": {},
   "outputs": [],
   "source": [
    "############################################### SKLEARN MODELS ###################################################"
   ]
  },
  {
   "cell_type": "code",
   "execution_count": 34,
   "metadata": {},
   "outputs": [],
   "source": [
    "Y_test_data = np.array(Y_test_data).ravel()\n",
    "Y_train_data = np.array(Y_train_data).ravel()"
   ]
  },
  {
   "cell_type": "code",
   "execution_count": 55,
   "metadata": {},
   "outputs": [
    {
     "data": {
      "text/plain": [
       "0.9970158153105947"
      ]
     },
     "execution_count": 55,
     "metadata": {},
     "output_type": "execute_result"
    }
   ],
   "source": [
    "from sklearn.linear_model import SGDRegressor\n",
    "reg = SGDRegressor(max_iter=250, tol=1e-3, alpha=0.01)\n",
    "reg.fit(X_train_data, Y_train_data)\n",
    "reg.score(X_test_data, Y_test_data)"
   ]
  },
  {
   "cell_type": "code",
   "execution_count": 36,
   "metadata": {},
   "outputs": [
    {
     "data": {
      "text/plain": [
       "0.0020377495018401117"
      ]
     },
     "execution_count": 36,
     "metadata": {},
     "output_type": "execute_result"
    }
   ],
   "source": [
    "mean_squared_error(Y_test_data, reg.predict(X_test_data))"
   ]
  },
  {
   "cell_type": "code",
   "execution_count": 37,
   "metadata": {},
   "outputs": [
    {
     "data": {
      "text/plain": [
       "0.99811348413674"
      ]
     },
     "execution_count": 37,
     "metadata": {},
     "output_type": "execute_result"
    }
   ],
   "source": [
    "from sklearn.linear_model import LinearRegression\n",
    "reg = LinearRegression().fit(X_train_data, Y_train_data)\n",
    "reg.score(X_test_data, Y_test_data)"
   ]
  },
  {
   "cell_type": "code",
   "execution_count": 38,
   "metadata": {},
   "outputs": [
    {
     "data": {
      "text/plain": [
       "0.0013094486021209442"
      ]
     },
     "execution_count": 38,
     "metadata": {},
     "output_type": "execute_result"
    }
   ],
   "source": [
    "mean_squared_error(Y_test_data, reg.predict(X_test_data))"
   ]
  },
  {
   "cell_type": "code",
   "execution_count": 39,
   "metadata": {},
   "outputs": [],
   "source": [
    "############################################### SKLEARN MODELS ###################################################"
   ]
  }
 ],
 "metadata": {
  "kernelspec": {
   "display_name": "Python 3",
   "language": "python",
   "name": "python3"
  },
  "language_info": {
   "codemirror_mode": {
    "name": "ipython",
    "version": 3
   },
   "file_extension": ".py",
   "mimetype": "text/x-python",
   "name": "python",
   "nbconvert_exporter": "python",
   "pygments_lexer": "ipython3",
   "version": "3.9.5"
  }
 },
 "nbformat": 4,
 "nbformat_minor": 4
}
